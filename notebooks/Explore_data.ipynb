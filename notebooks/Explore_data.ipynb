{
 "cells": [
  {
   "metadata": {
    "trusted": true
   },
   "cell_type": "code",
   "source": "import pandas as pd\n\ndf = pd.read_csv(\"../data/online_gaming_behavior_dataset.csv\")\ndf.describe()",
   "execution_count": 9,
   "outputs": [
    {
     "output_type": "execute_result",
     "execution_count": 9,
     "data": {
      "text/plain": "           PlayerID           Age  ...   PlayerLevel  AchievementsUnlocked\ncount  40034.000000  40034.000000  ...  40034.000000          40034.000000\nmean   29016.500000     31.992531  ...     49.655568             24.526477\nstd    11556.964675     10.043227  ...     28.588379             14.430726\nmin     9000.000000     15.000000  ...      1.000000              0.000000\n25%    19008.250000     23.000000  ...     25.000000             12.000000\n50%    29016.500000     32.000000  ...     49.000000             25.000000\n75%    39024.750000     41.000000  ...     74.000000             37.000000\nmax    49033.000000     49.000000  ...     99.000000             49.000000\n\n[8 rows x 8 columns]",
      "text/html": "<div>\n<style scoped>\n    .dataframe tbody tr th:only-of-type {\n        vertical-align: middle;\n    }\n\n    .dataframe tbody tr th {\n        vertical-align: top;\n    }\n\n    .dataframe thead th {\n        text-align: right;\n    }\n</style>\n<table border=\"1\" class=\"dataframe\">\n  <thead>\n    <tr style=\"text-align: right;\">\n      <th></th>\n      <th>PlayerID</th>\n      <th>Age</th>\n      <th>PlayTimeHours</th>\n      <th>InGamePurchases</th>\n      <th>SessionsPerWeek</th>\n      <th>AvgSessionDurationMinutes</th>\n      <th>PlayerLevel</th>\n      <th>AchievementsUnlocked</th>\n    </tr>\n  </thead>\n  <tbody>\n    <tr>\n      <th>count</th>\n      <td>40034.000000</td>\n      <td>40034.000000</td>\n      <td>40034.000000</td>\n      <td>40034.000000</td>\n      <td>40034.000000</td>\n      <td>40034.000000</td>\n      <td>40034.000000</td>\n      <td>40034.000000</td>\n    </tr>\n    <tr>\n      <th>mean</th>\n      <td>29016.500000</td>\n      <td>31.992531</td>\n      <td>12.024365</td>\n      <td>0.200854</td>\n      <td>9.471774</td>\n      <td>94.792252</td>\n      <td>49.655568</td>\n      <td>24.526477</td>\n    </tr>\n    <tr>\n      <th>std</th>\n      <td>11556.964675</td>\n      <td>10.043227</td>\n      <td>6.914638</td>\n      <td>0.400644</td>\n      <td>5.763667</td>\n      <td>49.011375</td>\n      <td>28.588379</td>\n      <td>14.430726</td>\n    </tr>\n    <tr>\n      <th>min</th>\n      <td>9000.000000</td>\n      <td>15.000000</td>\n      <td>0.000115</td>\n      <td>0.000000</td>\n      <td>0.000000</td>\n      <td>10.000000</td>\n      <td>1.000000</td>\n      <td>0.000000</td>\n    </tr>\n    <tr>\n      <th>25%</th>\n      <td>19008.250000</td>\n      <td>23.000000</td>\n      <td>6.067501</td>\n      <td>0.000000</td>\n      <td>4.000000</td>\n      <td>52.000000</td>\n      <td>25.000000</td>\n      <td>12.000000</td>\n    </tr>\n    <tr>\n      <th>50%</th>\n      <td>29016.500000</td>\n      <td>32.000000</td>\n      <td>12.008002</td>\n      <td>0.000000</td>\n      <td>9.000000</td>\n      <td>95.000000</td>\n      <td>49.000000</td>\n      <td>25.000000</td>\n    </tr>\n    <tr>\n      <th>75%</th>\n      <td>39024.750000</td>\n      <td>41.000000</td>\n      <td>17.963831</td>\n      <td>0.000000</td>\n      <td>14.000000</td>\n      <td>137.000000</td>\n      <td>74.000000</td>\n      <td>37.000000</td>\n    </tr>\n    <tr>\n      <th>max</th>\n      <td>49033.000000</td>\n      <td>49.000000</td>\n      <td>23.999592</td>\n      <td>1.000000</td>\n      <td>19.000000</td>\n      <td>179.000000</td>\n      <td>99.000000</td>\n      <td>49.000000</td>\n    </tr>\n  </tbody>\n</table>\n</div>"
     },
     "metadata": {}
    }
   ]
  },
  {
   "metadata": {
    "trusted": true
   },
   "cell_type": "code",
   "source": "df",
   "execution_count": 10,
   "outputs": [
    {
     "output_type": "execute_result",
     "execution_count": 10,
     "data": {
      "text/plain": "       PlayerID  Age  Gender  ... PlayerLevel AchievementsUnlocked  EngagementLevel\n0          9000   43    Male  ...          79                   25           Medium\n1          9001   29  Female  ...          11                   10           Medium\n2          9002   22  Female  ...          35                   41             High\n3          9003   35    Male  ...          57                   47           Medium\n4          9004   33    Male  ...          95                   37           Medium\n...         ...  ...     ...  ...         ...                  ...              ...\n40029     49029   32    Male  ...          85                   14           Medium\n40030     49030   44  Female  ...          71                   27             High\n40031     49031   15  Female  ...          29                    1             High\n40032     49032   34    Male  ...          70                   10           Medium\n40033     49033   19    Male  ...          72                   39           Medium\n\n[40034 rows x 13 columns]",
      "text/html": "<div>\n<style scoped>\n    .dataframe tbody tr th:only-of-type {\n        vertical-align: middle;\n    }\n\n    .dataframe tbody tr th {\n        vertical-align: top;\n    }\n\n    .dataframe thead th {\n        text-align: right;\n    }\n</style>\n<table border=\"1\" class=\"dataframe\">\n  <thead>\n    <tr style=\"text-align: right;\">\n      <th></th>\n      <th>PlayerID</th>\n      <th>Age</th>\n      <th>Gender</th>\n      <th>Location</th>\n      <th>GameGenre</th>\n      <th>PlayTimeHours</th>\n      <th>InGamePurchases</th>\n      <th>GameDifficulty</th>\n      <th>SessionsPerWeek</th>\n      <th>AvgSessionDurationMinutes</th>\n      <th>PlayerLevel</th>\n      <th>AchievementsUnlocked</th>\n      <th>EngagementLevel</th>\n    </tr>\n  </thead>\n  <tbody>\n    <tr>\n      <th>0</th>\n      <td>9000</td>\n      <td>43</td>\n      <td>Male</td>\n      <td>Other</td>\n      <td>Strategy</td>\n      <td>16.271119</td>\n      <td>0</td>\n      <td>Medium</td>\n      <td>6</td>\n      <td>108</td>\n      <td>79</td>\n      <td>25</td>\n      <td>Medium</td>\n    </tr>\n    <tr>\n      <th>1</th>\n      <td>9001</td>\n      <td>29</td>\n      <td>Female</td>\n      <td>USA</td>\n      <td>Strategy</td>\n      <td>5.525961</td>\n      <td>0</td>\n      <td>Medium</td>\n      <td>5</td>\n      <td>144</td>\n      <td>11</td>\n      <td>10</td>\n      <td>Medium</td>\n    </tr>\n    <tr>\n      <th>2</th>\n      <td>9002</td>\n      <td>22</td>\n      <td>Female</td>\n      <td>USA</td>\n      <td>Sports</td>\n      <td>8.223755</td>\n      <td>0</td>\n      <td>Easy</td>\n      <td>16</td>\n      <td>142</td>\n      <td>35</td>\n      <td>41</td>\n      <td>High</td>\n    </tr>\n    <tr>\n      <th>3</th>\n      <td>9003</td>\n      <td>35</td>\n      <td>Male</td>\n      <td>USA</td>\n      <td>Action</td>\n      <td>5.265351</td>\n      <td>1</td>\n      <td>Easy</td>\n      <td>9</td>\n      <td>85</td>\n      <td>57</td>\n      <td>47</td>\n      <td>Medium</td>\n    </tr>\n    <tr>\n      <th>4</th>\n      <td>9004</td>\n      <td>33</td>\n      <td>Male</td>\n      <td>Europe</td>\n      <td>Action</td>\n      <td>15.531945</td>\n      <td>0</td>\n      <td>Medium</td>\n      <td>2</td>\n      <td>131</td>\n      <td>95</td>\n      <td>37</td>\n      <td>Medium</td>\n    </tr>\n    <tr>\n      <th>...</th>\n      <td>...</td>\n      <td>...</td>\n      <td>...</td>\n      <td>...</td>\n      <td>...</td>\n      <td>...</td>\n      <td>...</td>\n      <td>...</td>\n      <td>...</td>\n      <td>...</td>\n      <td>...</td>\n      <td>...</td>\n      <td>...</td>\n    </tr>\n    <tr>\n      <th>40029</th>\n      <td>49029</td>\n      <td>32</td>\n      <td>Male</td>\n      <td>USA</td>\n      <td>Strategy</td>\n      <td>20.619662</td>\n      <td>0</td>\n      <td>Easy</td>\n      <td>4</td>\n      <td>75</td>\n      <td>85</td>\n      <td>14</td>\n      <td>Medium</td>\n    </tr>\n    <tr>\n      <th>40030</th>\n      <td>49030</td>\n      <td>44</td>\n      <td>Female</td>\n      <td>Other</td>\n      <td>Simulation</td>\n      <td>13.539280</td>\n      <td>0</td>\n      <td>Hard</td>\n      <td>19</td>\n      <td>114</td>\n      <td>71</td>\n      <td>27</td>\n      <td>High</td>\n    </tr>\n    <tr>\n      <th>40031</th>\n      <td>49031</td>\n      <td>15</td>\n      <td>Female</td>\n      <td>USA</td>\n      <td>RPG</td>\n      <td>0.240057</td>\n      <td>1</td>\n      <td>Easy</td>\n      <td>10</td>\n      <td>176</td>\n      <td>29</td>\n      <td>1</td>\n      <td>High</td>\n    </tr>\n    <tr>\n      <th>40032</th>\n      <td>49032</td>\n      <td>34</td>\n      <td>Male</td>\n      <td>USA</td>\n      <td>Sports</td>\n      <td>14.017818</td>\n      <td>1</td>\n      <td>Medium</td>\n      <td>3</td>\n      <td>128</td>\n      <td>70</td>\n      <td>10</td>\n      <td>Medium</td>\n    </tr>\n    <tr>\n      <th>40033</th>\n      <td>49033</td>\n      <td>19</td>\n      <td>Male</td>\n      <td>USA</td>\n      <td>Sports</td>\n      <td>10.083804</td>\n      <td>0</td>\n      <td>Easy</td>\n      <td>13</td>\n      <td>84</td>\n      <td>72</td>\n      <td>39</td>\n      <td>Medium</td>\n    </tr>\n  </tbody>\n</table>\n<p>40034 rows × 13 columns</p>\n</div>"
     },
     "metadata": {}
    }
   ]
  },
  {
   "metadata": {
    "trusted": true
   },
   "cell_type": "code",
   "source": "df.drop(\"PlayerID\", axis=1)\ny = df[\"EngagementLevel\"]\nX = df.drop(\"EngagementLevel\", axis=1)",
   "execution_count": 11,
   "outputs": []
  },
  {
   "metadata": {
    "trusted": true
   },
   "cell_type": "code",
   "source": "from sklearn.model_selection import train_test_split\nfrom sklearn.preprocessing import OneHotEncoder, LabelEncoder\n\nencX = OneHotEncoder()\nX_enc = encX.fit_transform(X)\n\nencY = LabelEncoder()\ny_enc = encY.fit_transform(y)\n\nX_train, X_test, y_train, y_test = train_test_split(\n    X_enc, y_enc, test_size=0.33, random_state=42)",
   "execution_count": 12,
   "outputs": []
  },
  {
   "metadata": {
    "trusted": true
   },
   "cell_type": "code",
   "source": "from sklearn.metrics import classification_report\n\ndef train_evaluate(model):\n    clf = model()\n    clf.fit(X_train, y_train)\n    y_pred = clf.predict(X_test)\n    print(classification_report(y_pred,y_test))",
   "execution_count": 13,
   "outputs": []
  },
  {
   "metadata": {
    "trusted": true
   },
   "cell_type": "code",
   "source": "from sklearn.svm import SVC\nfrom sklearn.ensemble import RandomForestClassifier\nfrom sklearn.neural_network import MLPClassifier\n\ntrain_evaluate(SVC)\n\ntrain_evaluate(RandomForestClassifier)\n\ntrain_evaluate(MLPClassifier)",
   "execution_count": 14,
   "outputs": [
    {
     "output_type": "stream",
     "text": "              precision    recall  f1-score   support\n\n           0       0.82      0.85      0.83      3297\n           1       0.69      0.84      0.76      2731\n           2       0.89      0.79      0.84      7184\n\n    accuracy                           0.82     13212\n   macro avg       0.80      0.83      0.81     13212\nweighted avg       0.83      0.82      0.82     13212\n\n              precision    recall  f1-score   support\n\n           0       0.73      0.90      0.80      2775\n           1       0.65      0.85      0.74      2565\n           2       0.92      0.75      0.83      7872\n\n    accuracy                           0.80     13212\n   macro avg       0.77      0.83      0.79     13212\nweighted avg       0.83      0.80      0.81     13212\n\n              precision    recall  f1-score   support\n\n           0       0.83      0.87      0.85      3270\n           1       0.74      0.85      0.79      2913\n           2       0.90      0.82      0.86      7029\n\n    accuracy                           0.84     13212\n   macro avg       0.82      0.84      0.83     13212\nweighted avg       0.84      0.84      0.84     13212\n\n",
     "name": "stdout"
    }
   ]
  },
  {
   "metadata": {
    "trusted": true
   },
   "cell_type": "code",
   "source": "from sklearn.tree import DecisionTreeClassifier\n\ntrain_evaluate(DecisionTreeClassifier)",
   "execution_count": 15,
   "outputs": [
    {
     "output_type": "stream",
     "text": "              precision    recall  f1-score   support\n\n           0       0.86      0.89      0.87      3322\n           1       0.80      0.82      0.81      3271\n           2       0.89      0.86      0.88      6619\n\n    accuracy                           0.86     13212\n   macro avg       0.85      0.86      0.85     13212\nweighted avg       0.86      0.86      0.86     13212\n\n",
     "name": "stdout"
    }
   ]
  },
  {
   "metadata": {
    "trusted": true
   },
   "cell_type": "code",
   "source": "",
   "execution_count": null,
   "outputs": []
  }
 ],
 "metadata": {
  "kernelspec": {
   "name": "python3",
   "display_name": "Python 3",
   "language": "python"
  },
  "language_info": {
   "name": "python",
   "version": "3.10.4",
   "mimetype": "text/x-python",
   "codemirror_mode": {
    "name": "ipython",
    "version": 3
   },
   "pygments_lexer": "ipython3",
   "nbconvert_exporter": "python",
   "file_extension": ".py"
  }
 },
 "nbformat": 4,
 "nbformat_minor": 2
}